{
 "cells": [
  {
   "cell_type": "markdown",
   "id": "79f20507-515b-4128-b004-0a5cf351b825",
   "metadata": {},
   "source": [
    "# This dataset contains the nutrition info for Starbucks menu items."
   ]
  },
  {
   "cell_type": "code",
   "execution_count": 234,
   "id": "2d111b4a-78bc-4de2-bb27-010db9d5015f",
   "metadata": {},
   "outputs": [],
   "source": [
    "import pandas as pd\n",
    "import matplotlib as plt\n",
    "import seaborn as sns"
   ]
  },
  {
   "cell_type": "markdown",
   "id": "bd65c58a-185a-4ccc-9d4e-d1f686d6c25c",
   "metadata": {},
   "source": [
    "## Import the dataset (pandas-starbuck.csv) from Kaggle"
   ]
  },
  {
   "cell_type": "code",
   "execution_count": 221,
   "id": "0bf38891-97f4-4085-9ced-e6a46197481e",
   "metadata": {},
   "outputs": [],
   "source": [
    "starbucks = pd.read_csv(\"starbucks.csv\")"
   ]
  },
  {
   "cell_type": "markdown",
   "id": "e50b5bcc-dacb-4db7-8c1c-60f88bbef9e8",
   "metadata": {},
   "source": [
    "### Discover layout of the dataset"
   ]
  },
  {
   "cell_type": "code",
   "execution_count": 222,
   "id": "47c5c58f-3007-4a5c-8617-a68c9d86d5fe",
   "metadata": {},
   "outputs": [
    {
     "data": {
      "text/plain": [
       "Beverage_category           object\n",
       "Beverage                    object\n",
       "Beverage_prep               object\n",
       "Calories                     int64\n",
       "Total Fat (g)              float64\n",
       "Trans Fat (g)              float64\n",
       "Saturated Fat (g)          float64\n",
       "Sodium (mg)                  int64\n",
       "Total Carbohydrates (g)      int64\n",
       "Cholesterol (mg)             int64\n",
       "Dietary Fibre (g)            int64\n",
       "Sugars (g)                   int64\n",
       "Protein (g)                float64\n",
       "Vitamin A (% DV)            object\n",
       "Vitamin C (% DV)            object\n",
       "Calcium (% DV)              object\n",
       "Iron (% DV)                 object\n",
       "Caffeine (mg)               object\n",
       "dtype: object"
      ]
     },
     "execution_count": 222,
     "metadata": {},
     "output_type": "execute_result"
    }
   ],
   "source": [
    "starbucks.dtypes"
   ]
  },
  {
   "cell_type": "code",
   "execution_count": 223,
   "id": "4d384d0d-0a69-4bce-8112-a1c36cdffc25",
   "metadata": {},
   "outputs": [
    {
     "data": {
      "text/plain": [
       "Index(['Beverage_category', 'Beverage', 'Beverage_prep', 'Calories',\n",
       "       'Total Fat (g)', 'Trans Fat (g)', 'Saturated Fat (g)', 'Sodium (mg)',\n",
       "       'Total Carbohydrates (g)', 'Cholesterol (mg)', 'Dietary Fibre (g)',\n",
       "       'Sugars (g)', 'Protein (g)', 'Vitamin A (% DV)', 'Vitamin C (% DV)',\n",
       "       'Calcium (% DV)', 'Iron (% DV)', 'Caffeine (mg)'],\n",
       "      dtype='object')"
      ]
     },
     "execution_count": 223,
     "metadata": {},
     "output_type": "execute_result"
    }
   ],
   "source": [
    "starbucks.columns"
   ]
  },
  {
   "cell_type": "code",
   "execution_count": 224,
   "id": "7155fc20-f5b4-41a1-8c2e-a59e3327e7e3",
   "metadata": {},
   "outputs": [
    {
     "data": {
      "text/plain": [
       "RangeIndex(start=0, stop=242, step=1)"
      ]
     },
     "execution_count": 224,
     "metadata": {},
     "output_type": "execute_result"
    }
   ],
   "source": [
    "starbucks.index"
   ]
  },
  {
   "cell_type": "code",
   "execution_count": 225,
   "id": "aab4275f-2a19-4e41-b4a3-51f746cc2ae8",
   "metadata": {},
   "outputs": [
    {
     "name": "stdout",
     "output_type": "stream",
     "text": [
      "<class 'pandas.core.frame.DataFrame'>\n",
      "RangeIndex: 242 entries, 0 to 241\n",
      "Data columns (total 18 columns):\n",
      " #   Column                   Non-Null Count  Dtype  \n",
      "---  ------                   --------------  -----  \n",
      " 0   Beverage_category        242 non-null    object \n",
      " 1   Beverage                 242 non-null    object \n",
      " 2   Beverage_prep            242 non-null    object \n",
      " 3   Calories                 242 non-null    int64  \n",
      " 4   Total Fat (g)            242 non-null    float64\n",
      " 5   Trans Fat (g)            242 non-null    float64\n",
      " 6   Saturated Fat (g)        242 non-null    float64\n",
      " 7   Sodium (mg)              242 non-null    int64  \n",
      " 8   Total Carbohydrates (g)  242 non-null    int64  \n",
      " 9   Cholesterol (mg)         242 non-null    int64  \n",
      " 10  Dietary Fibre (g)        242 non-null    int64  \n",
      " 11  Sugars (g)               242 non-null    int64  \n",
      " 12  Protein (g)              242 non-null    float64\n",
      " 13  Vitamin A (% DV)         242 non-null    object \n",
      " 14  Vitamin C (% DV)         242 non-null    object \n",
      " 15  Calcium (% DV)           242 non-null    object \n",
      " 16  Iron (% DV)              242 non-null    object \n",
      " 17  Caffeine (mg)            241 non-null    object \n",
      "dtypes: float64(4), int64(6), object(8)\n",
      "memory usage: 34.2+ KB\n"
     ]
    }
   ],
   "source": [
    "starbucks.info()"
   ]
  },
  {
   "cell_type": "markdown",
   "id": "d60e2041-9f44-473c-bd05-10a9b0251254",
   "metadata": {},
   "source": [
    "## Clean up Column Titles and convert numeric columns from object to numeric"
   ]
  },
  {
   "cell_type": "code",
   "execution_count": 226,
   "id": "9ac6c587-b5f0-491d-bf17-ca263acf6fd1",
   "metadata": {},
   "outputs": [
    {
     "data": {
      "text/plain": [
       "Beverage_category           object\n",
       "Beverage                    object\n",
       "Beverage_prep               object\n",
       "Calories                     int64\n",
       "Total Fat (g)              float64\n",
       "Trans Fat (g)              float64\n",
       "Saturated Fat (g)          float64\n",
       "Sodium (mg)                  int64\n",
       "Total Carbohydrates (g)      int64\n",
       "Cholesterol (mg)             int64\n",
       "Dietary Fibre (g)            int64\n",
       "Sugars (g)                   int64\n",
       "Protein (g)                float64\n",
       "Vitamin A (% DV)            object\n",
       "Vitamin C (% DV)            object\n",
       "Calcium (% DV)              object\n",
       "Iron (% DV)                 object\n",
       "Caffeine (mg)               object\n",
       "dtype: object"
      ]
     },
     "execution_count": 226,
     "metadata": {},
     "output_type": "execute_result"
    }
   ],
   "source": [
    "# Remove any extra spaces in column names\n",
    "starbucks.columns = starbucks.columns.str.strip()\n",
    "starbucks.dtypes"
   ]
  },
  {
   "cell_type": "markdown",
   "id": "951e1bfd-a52f-4c4a-814c-937fdd49c201",
   "metadata": {},
   "source": [
    "### View the top and bottom 5 rows"
   ]
  },
  {
   "cell_type": "code",
   "execution_count": 227,
   "id": "16237eef-7e7a-44b9-8b73-87014aa2b048",
   "metadata": {},
   "outputs": [
    {
     "data": {
      "text/html": [
       "<div>\n",
       "<style scoped>\n",
       "    .dataframe tbody tr th:only-of-type {\n",
       "        vertical-align: middle;\n",
       "    }\n",
       "\n",
       "    .dataframe tbody tr th {\n",
       "        vertical-align: top;\n",
       "    }\n",
       "\n",
       "    .dataframe thead th {\n",
       "        text-align: right;\n",
       "    }\n",
       "</style>\n",
       "<table border=\"1\" class=\"dataframe\">\n",
       "  <thead>\n",
       "    <tr style=\"text-align: right;\">\n",
       "      <th></th>\n",
       "      <th>Beverage_category</th>\n",
       "      <th>Beverage</th>\n",
       "      <th>Beverage_prep</th>\n",
       "      <th>Calories</th>\n",
       "      <th>Total Fat (g)</th>\n",
       "      <th>Trans Fat (g)</th>\n",
       "      <th>Saturated Fat (g)</th>\n",
       "      <th>Sodium (mg)</th>\n",
       "      <th>Total Carbohydrates (g)</th>\n",
       "      <th>Cholesterol (mg)</th>\n",
       "      <th>Dietary Fibre (g)</th>\n",
       "      <th>Sugars (g)</th>\n",
       "      <th>Protein (g)</th>\n",
       "      <th>Vitamin A (% DV)</th>\n",
       "      <th>Vitamin C (% DV)</th>\n",
       "      <th>Calcium (% DV)</th>\n",
       "      <th>Iron (% DV)</th>\n",
       "      <th>Caffeine (mg)</th>\n",
       "    </tr>\n",
       "  </thead>\n",
       "  <tbody>\n",
       "    <tr>\n",
       "      <th>0</th>\n",
       "      <td>Coffee</td>\n",
       "      <td>Brewed Coffee</td>\n",
       "      <td>Short</td>\n",
       "      <td>3</td>\n",
       "      <td>0.1</td>\n",
       "      <td>0.0</td>\n",
       "      <td>0.0</td>\n",
       "      <td>0</td>\n",
       "      <td>5</td>\n",
       "      <td>0</td>\n",
       "      <td>0</td>\n",
       "      <td>0</td>\n",
       "      <td>0.3</td>\n",
       "      <td>0%</td>\n",
       "      <td>0%</td>\n",
       "      <td>0%</td>\n",
       "      <td>0%</td>\n",
       "      <td>175</td>\n",
       "    </tr>\n",
       "    <tr>\n",
       "      <th>1</th>\n",
       "      <td>Coffee</td>\n",
       "      <td>Brewed Coffee</td>\n",
       "      <td>Tall</td>\n",
       "      <td>4</td>\n",
       "      <td>0.1</td>\n",
       "      <td>0.0</td>\n",
       "      <td>0.0</td>\n",
       "      <td>0</td>\n",
       "      <td>10</td>\n",
       "      <td>0</td>\n",
       "      <td>0</td>\n",
       "      <td>0</td>\n",
       "      <td>0.5</td>\n",
       "      <td>0%</td>\n",
       "      <td>0%</td>\n",
       "      <td>0%</td>\n",
       "      <td>0%</td>\n",
       "      <td>260</td>\n",
       "    </tr>\n",
       "    <tr>\n",
       "      <th>2</th>\n",
       "      <td>Coffee</td>\n",
       "      <td>Brewed Coffee</td>\n",
       "      <td>Grande</td>\n",
       "      <td>5</td>\n",
       "      <td>0.1</td>\n",
       "      <td>0.0</td>\n",
       "      <td>0.0</td>\n",
       "      <td>0</td>\n",
       "      <td>10</td>\n",
       "      <td>0</td>\n",
       "      <td>0</td>\n",
       "      <td>0</td>\n",
       "      <td>1.0</td>\n",
       "      <td>0%</td>\n",
       "      <td>0%</td>\n",
       "      <td>0%</td>\n",
       "      <td>0%</td>\n",
       "      <td>330</td>\n",
       "    </tr>\n",
       "    <tr>\n",
       "      <th>3</th>\n",
       "      <td>Coffee</td>\n",
       "      <td>Brewed Coffee</td>\n",
       "      <td>Venti</td>\n",
       "      <td>5</td>\n",
       "      <td>0.1</td>\n",
       "      <td>0.0</td>\n",
       "      <td>0.0</td>\n",
       "      <td>0</td>\n",
       "      <td>10</td>\n",
       "      <td>0</td>\n",
       "      <td>0</td>\n",
       "      <td>0</td>\n",
       "      <td>1.0</td>\n",
       "      <td>0%</td>\n",
       "      <td>0%</td>\n",
       "      <td>2%</td>\n",
       "      <td>0%</td>\n",
       "      <td>410</td>\n",
       "    </tr>\n",
       "    <tr>\n",
       "      <th>4</th>\n",
       "      <td>Classic Espresso Drinks</td>\n",
       "      <td>Caffè Latte</td>\n",
       "      <td>Short Nonfat Milk</td>\n",
       "      <td>70</td>\n",
       "      <td>0.1</td>\n",
       "      <td>0.1</td>\n",
       "      <td>0.0</td>\n",
       "      <td>5</td>\n",
       "      <td>75</td>\n",
       "      <td>10</td>\n",
       "      <td>0</td>\n",
       "      <td>9</td>\n",
       "      <td>6.0</td>\n",
       "      <td>10%</td>\n",
       "      <td>0%</td>\n",
       "      <td>20%</td>\n",
       "      <td>0%</td>\n",
       "      <td>75</td>\n",
       "    </tr>\n",
       "  </tbody>\n",
       "</table>\n",
       "</div>"
      ],
      "text/plain": [
       "         Beverage_category       Beverage      Beverage_prep  Calories  \\\n",
       "0                   Coffee  Brewed Coffee              Short         3   \n",
       "1                   Coffee  Brewed Coffee               Tall         4   \n",
       "2                   Coffee  Brewed Coffee             Grande         5   \n",
       "3                   Coffee  Brewed Coffee              Venti         5   \n",
       "4  Classic Espresso Drinks    Caffè Latte  Short Nonfat Milk        70   \n",
       "\n",
       "   Total Fat (g)  Trans Fat (g)  Saturated Fat (g)  Sodium (mg)  \\\n",
       "0            0.1            0.0                0.0            0   \n",
       "1            0.1            0.0                0.0            0   \n",
       "2            0.1            0.0                0.0            0   \n",
       "3            0.1            0.0                0.0            0   \n",
       "4            0.1            0.1                0.0            5   \n",
       "\n",
       "   Total Carbohydrates (g)  Cholesterol (mg)  Dietary Fibre (g)  Sugars (g)  \\\n",
       "0                        5                 0                  0           0   \n",
       "1                       10                 0                  0           0   \n",
       "2                       10                 0                  0           0   \n",
       "3                       10                 0                  0           0   \n",
       "4                       75                10                  0           9   \n",
       "\n",
       "   Protein (g) Vitamin A (% DV) Vitamin C (% DV) Calcium (% DV) Iron (% DV)  \\\n",
       "0          0.3               0%               0%             0%          0%   \n",
       "1          0.5               0%               0%             0%          0%   \n",
       "2          1.0               0%               0%             0%          0%   \n",
       "3          1.0               0%               0%             2%          0%   \n",
       "4          6.0              10%               0%            20%          0%   \n",
       "\n",
       "  Caffeine (mg)  \n",
       "0           175  \n",
       "1           260  \n",
       "2           330  \n",
       "3           410  \n",
       "4            75  "
      ]
     },
     "execution_count": 227,
     "metadata": {},
     "output_type": "execute_result"
    }
   ],
   "source": [
    "starbucks.head()"
   ]
  },
  {
   "cell_type": "code",
   "execution_count": 228,
   "id": "58cec293-0926-4489-bbb4-bf5991dcff02",
   "metadata": {},
   "outputs": [
    {
     "data": {
      "text/html": [
       "<div>\n",
       "<style scoped>\n",
       "    .dataframe tbody tr th:only-of-type {\n",
       "        vertical-align: middle;\n",
       "    }\n",
       "\n",
       "    .dataframe tbody tr th {\n",
       "        vertical-align: top;\n",
       "    }\n",
       "\n",
       "    .dataframe thead th {\n",
       "        text-align: right;\n",
       "    }\n",
       "</style>\n",
       "<table border=\"1\" class=\"dataframe\">\n",
       "  <thead>\n",
       "    <tr style=\"text-align: right;\">\n",
       "      <th></th>\n",
       "      <th>Beverage_category</th>\n",
       "      <th>Beverage</th>\n",
       "      <th>Beverage_prep</th>\n",
       "      <th>Calories</th>\n",
       "      <th>Total Fat (g)</th>\n",
       "      <th>Trans Fat (g)</th>\n",
       "      <th>Saturated Fat (g)</th>\n",
       "      <th>Sodium (mg)</th>\n",
       "      <th>Total Carbohydrates (g)</th>\n",
       "      <th>Cholesterol (mg)</th>\n",
       "      <th>Dietary Fibre (g)</th>\n",
       "      <th>Sugars (g)</th>\n",
       "      <th>Protein (g)</th>\n",
       "      <th>Vitamin A (% DV)</th>\n",
       "      <th>Vitamin C (% DV)</th>\n",
       "      <th>Calcium (% DV)</th>\n",
       "      <th>Iron (% DV)</th>\n",
       "      <th>Caffeine (mg)</th>\n",
       "    </tr>\n",
       "  </thead>\n",
       "  <tbody>\n",
       "    <tr>\n",
       "      <th>237</th>\n",
       "      <td>Frappuccino® Blended Crème</td>\n",
       "      <td>Strawberries &amp; Crème (Without Whipped Cream)</td>\n",
       "      <td>Soymilk</td>\n",
       "      <td>320</td>\n",
       "      <td>3.2</td>\n",
       "      <td>0.4</td>\n",
       "      <td>0.0</td>\n",
       "      <td>0</td>\n",
       "      <td>250</td>\n",
       "      <td>67</td>\n",
       "      <td>1</td>\n",
       "      <td>64</td>\n",
       "      <td>5.0</td>\n",
       "      <td>6%</td>\n",
       "      <td>8%</td>\n",
       "      <td>20%</td>\n",
       "      <td>10%</td>\n",
       "      <td>0</td>\n",
       "    </tr>\n",
       "    <tr>\n",
       "      <th>238</th>\n",
       "      <td>Frappuccino® Blended Crème</td>\n",
       "      <td>Vanilla Bean (Without Whipped Cream)</td>\n",
       "      <td>Tall Nonfat Milk</td>\n",
       "      <td>170</td>\n",
       "      <td>0.1</td>\n",
       "      <td>0.1</td>\n",
       "      <td>0.0</td>\n",
       "      <td>0</td>\n",
       "      <td>160</td>\n",
       "      <td>39</td>\n",
       "      <td>0</td>\n",
       "      <td>38</td>\n",
       "      <td>4.0</td>\n",
       "      <td>6%</td>\n",
       "      <td>0%</td>\n",
       "      <td>10%</td>\n",
       "      <td>0%</td>\n",
       "      <td>0</td>\n",
       "    </tr>\n",
       "    <tr>\n",
       "      <th>239</th>\n",
       "      <td>Frappuccino® Blended Crème</td>\n",
       "      <td>Vanilla Bean (Without Whipped Cream)</td>\n",
       "      <td>Whole Milk</td>\n",
       "      <td>200</td>\n",
       "      <td>3.5</td>\n",
       "      <td>2.0</td>\n",
       "      <td>0.1</td>\n",
       "      <td>10</td>\n",
       "      <td>160</td>\n",
       "      <td>39</td>\n",
       "      <td>0</td>\n",
       "      <td>38</td>\n",
       "      <td>3.0</td>\n",
       "      <td>6%</td>\n",
       "      <td>0%</td>\n",
       "      <td>10%</td>\n",
       "      <td>0%</td>\n",
       "      <td>0</td>\n",
       "    </tr>\n",
       "    <tr>\n",
       "      <th>240</th>\n",
       "      <td>Frappuccino® Blended Crème</td>\n",
       "      <td>Vanilla Bean (Without Whipped Cream)</td>\n",
       "      <td>Soymilk</td>\n",
       "      <td>180</td>\n",
       "      <td>1.5</td>\n",
       "      <td>0.2</td>\n",
       "      <td>0.0</td>\n",
       "      <td>0</td>\n",
       "      <td>160</td>\n",
       "      <td>37</td>\n",
       "      <td>1</td>\n",
       "      <td>35</td>\n",
       "      <td>3.0</td>\n",
       "      <td>4%</td>\n",
       "      <td>0%</td>\n",
       "      <td>10%</td>\n",
       "      <td>6%</td>\n",
       "      <td>0</td>\n",
       "    </tr>\n",
       "    <tr>\n",
       "      <th>241</th>\n",
       "      <td>Frappuccino® Blended Crème</td>\n",
       "      <td>Vanilla Bean (Without Whipped Cream)</td>\n",
       "      <td>Grande Nonfat Milk</td>\n",
       "      <td>240</td>\n",
       "      <td>0.1</td>\n",
       "      <td>0.1</td>\n",
       "      <td>0.0</td>\n",
       "      <td>5</td>\n",
       "      <td>230</td>\n",
       "      <td>56</td>\n",
       "      <td>0</td>\n",
       "      <td>55</td>\n",
       "      <td>5.0</td>\n",
       "      <td>8%</td>\n",
       "      <td>0%</td>\n",
       "      <td>15%</td>\n",
       "      <td>0%</td>\n",
       "      <td>0</td>\n",
       "    </tr>\n",
       "  </tbody>\n",
       "</table>\n",
       "</div>"
      ],
      "text/plain": [
       "              Beverage_category                                      Beverage  \\\n",
       "237  Frappuccino® Blended Crème  Strawberries & Crème (Without Whipped Cream)   \n",
       "238  Frappuccino® Blended Crème          Vanilla Bean (Without Whipped Cream)   \n",
       "239  Frappuccino® Blended Crème          Vanilla Bean (Without Whipped Cream)   \n",
       "240  Frappuccino® Blended Crème          Vanilla Bean (Without Whipped Cream)   \n",
       "241  Frappuccino® Blended Crème          Vanilla Bean (Without Whipped Cream)   \n",
       "\n",
       "          Beverage_prep  Calories  Total Fat (g)  Trans Fat (g)  \\\n",
       "237             Soymilk       320            3.2            0.4   \n",
       "238    Tall Nonfat Milk       170            0.1            0.1   \n",
       "239          Whole Milk       200            3.5            2.0   \n",
       "240             Soymilk       180            1.5            0.2   \n",
       "241  Grande Nonfat Milk       240            0.1            0.1   \n",
       "\n",
       "     Saturated Fat (g)  Sodium (mg)  Total Carbohydrates (g)  \\\n",
       "237                0.0            0                      250   \n",
       "238                0.0            0                      160   \n",
       "239                0.1           10                      160   \n",
       "240                0.0            0                      160   \n",
       "241                0.0            5                      230   \n",
       "\n",
       "     Cholesterol (mg)  Dietary Fibre (g)  Sugars (g)  Protein (g)  \\\n",
       "237                67                  1          64          5.0   \n",
       "238                39                  0          38          4.0   \n",
       "239                39                  0          38          3.0   \n",
       "240                37                  1          35          3.0   \n",
       "241                56                  0          55          5.0   \n",
       "\n",
       "    Vitamin A (% DV) Vitamin C (% DV) Calcium (% DV) Iron (% DV) Caffeine (mg)  \n",
       "237               6%               8%            20%         10%             0  \n",
       "238               6%               0%            10%          0%             0  \n",
       "239               6%               0%            10%          0%             0  \n",
       "240               4%               0%            10%          6%             0  \n",
       "241               8%               0%            15%          0%             0  "
      ]
     },
     "execution_count": 228,
     "metadata": {},
     "output_type": "execute_result"
    }
   ],
   "source": [
    "starbucks.tail()"
   ]
  },
  {
   "cell_type": "markdown",
   "id": "5905e06c-b38c-41d1-b4c7-4b6368a140d2",
   "metadata": {},
   "source": [
    "### Calories"
   ]
  },
  {
   "cell_type": "code",
   "execution_count": 229,
   "id": "2ba35815-3cde-46ad-90fa-b35485784700",
   "metadata": {},
   "outputs": [
    {
     "data": {
      "text/plain": [
       "count    242.000000\n",
       "mean     193.871901\n",
       "std      102.863303\n",
       "min        0.000000\n",
       "25%      120.000000\n",
       "50%      185.000000\n",
       "75%      260.000000\n",
       "max      510.000000\n",
       "Name: Calories, dtype: float64"
      ]
     },
     "execution_count": 229,
     "metadata": {},
     "output_type": "execute_result"
    }
   ],
   "source": [
    "starbucks['Calories'].describe()"
   ]
  },
  {
   "cell_type": "code",
   "execution_count": 230,
   "id": "e2a10291-bbd1-44e6-b556-25821a19e9d0",
   "metadata": {},
   "outputs": [
    {
     "data": {
      "text/plain": [
       "<Axes: >"
      ]
     },
     "execution_count": 230,
     "metadata": {},
     "output_type": "execute_result"
    },
    {
     "data": {
      "image/png": "[encoded data removed]",
      "text/plain": [
       "<Figure size 640x480 with 1 Axes>"
      ]
     },
     "metadata": {},
     "output_type": "display_data"
    }
   ],
   "source": [
    "starbucks['Calories'].hist(bins=20)"
   ]
  },
  {
   "cell_type": "markdown",
   "id": "7a2d2a73-f213-490a-96a9-5d7a53a1cbb5",
   "metadata": {},
   "source": [
    "### Fats"
   ]
  },
  {
   "cell_type": "code",
   "execution_count": 231,
   "id": "650d9ca1-803c-4a81-b354-9c407ddb7b78",
   "metadata": {},
   "outputs": [
    {
     "data": {
      "text/plain": [
       "count    242.000000\n",
       "mean       2.904959\n",
       "std        2.944376\n",
       "min        0.000000\n",
       "25%        0.200000\n",
       "50%        2.500000\n",
       "75%        4.500000\n",
       "max       15.000000\n",
       "Name: Total Fat (g), dtype: float64"
      ]
     },
     "execution_count": 231,
     "metadata": {},
     "output_type": "execute_result"
    }
   ],
   "source": [
    "starbucks['Total Fat (g)'].describe()"
   ]
  },
  {
   "cell_type": "code",
   "execution_count": 232,
   "id": "0cba1847-ea31-4756-a38a-891c98a006df",
   "metadata": {},
   "outputs": [
    {
     "data": {
      "text/plain": [
       "<Axes: >"
      ]
     },
     "execution_count": 232,
     "metadata": {},
     "output_type": "execute_result"
    },
    {
     "data": {
      "image/png": "[encoded data removed]",
      "text/plain": [
       "<Figure size 640x480 with 1 Axes>"
      ]
     },
     "metadata": {},
     "output_type": "display_data"
    }
   ],
   "source": [
    "starbucks['Total Fat (g)'].hist(bins=20)"
   ]
  },
  {
   "cell_type": "markdown",
   "id": "d36b791f-f294-4129-8ac7-1bb454065205",
   "metadata": {},
   "source": [
    "## Calorie Breakdown by Beverage Category\n",
    "### Find the average calories per beverage category"
   ]
  },
  {
   "cell_type": "code",
   "execution_count": 233,
   "id": "b66080ee-d21c-4126-9237-da2af32cba14",
   "metadata": {},
   "outputs": [
    {
     "data": {
      "text/plain": [
       "<Axes: title={'center': 'Average Calories by Beverage Category'}, xlabel='Beverage_category'>"
      ]
     },
     "execution_count": 233,
     "metadata": {},
     "output_type": "execute_result"
    },
    {
     "data": {
      "image/png": "[encoded data removed]",
      "text/plain": [
       "<Figure size 640x480 with 1 Axes>"
      ]
     },
     "metadata": {},
     "output_type": "display_data"
    }
   ],
   "source": [
    "starbucks.groupby('Beverage_category')['Calories'].mean().plot(kind='bar', title='Average Calories by Beverage Category')"
   ]
  },
  {
   "cell_type": "markdown",
   "id": "50048a31-ac9a-45ce-822a-1a6a796ded95",
   "metadata": {},
   "source": [
    "## Beverage Prep Impact\n",
    "### Explore how different preparations (e.g., 'Whipped cream' or 'Nonfat milk') affect nutritional values like calories, fat, etc.:"
   ]
  },
  {
   "cell_type": "code",
   "execution_count": 238,
   "id": "71333a13-e3bf-4e56-a363-3a7a66ed9444",
   "metadata": {},
   "outputs": [
    {
     "data": {
      "text/plain": [
       "<Axes: title={'center': 'Calories by Beverage Prep'}, xlabel='Beverage_prep'>"
      ]
     },
     "execution_count": 238,
     "metadata": {},
     "output_type": "execute_result"
    },
    {
     "data": {
      "image/png": "[encoded data removed]",
      "text/plain": [
       "<Figure size 640x480 with 1 Axes>"
      ]
     },
     "metadata": {},
     "output_type": "display_data"
    }
   ],
   "source": [
    "starbucks.groupby('Beverage_prep')['Calories'].mean().plot(kind='bar', title='Calories by Beverage Prep')\n",
    "\n"
   ]
  },
  {
   "cell_type": "markdown",
   "id": "82be6eba-767e-4faa-9f15-e57b79010663",
   "metadata": {},
   "source": [
    "## Macronutrient Distribution\n",
    "### Plot a stacked bar chart or pie chart to show the macronutrient distribution (fat, carbohydrates, protein) for each beverage."
   ]
  },
  {
   "cell_type": "code",
   "execution_count": 242,
   "id": "522453f1-86a4-47cf-a823-d0836603084b",
   "metadata": {},
   "outputs": [
    {
     "data": {
      "text/plain": [
       "<Axes: >"
      ]
     },
     "execution_count": 242,
     "metadata": {},
     "output_type": "execute_result"
    },
    {
     "data": {
      "image/png": "[encoded data removed]",
      "text/plain": [
       "<Figure size 640x480 with 1 Axes>"
      ]
     },
     "metadata": {},
     "output_type": "display_data"
    }
   ],
   "source": [
    "starbucks[['Total Fat (g)', 'Total Carbohydrates (g)', 'Protein (g)']].plot(kind='bar', stacked=True)\n"
   ]
  },
  {
   "cell_type": "markdown",
   "id": "a6d122ce-f907-4668-8a66-058c04c107f8",
   "metadata": {},
   "source": [
    "## Caffeine vs. Calories\n",
    "### Analyze the relationship between Caffeine and Calories in beverages:"
   ]
  },
  {
   "cell_type": "code",
   "execution_count": 245,
   "id": "a0e02a8a-3f79-462f-950b-505a8d56c0e9",
   "metadata": {},
   "outputs": [],
   "source": [
    "#starbucks.plot(kind='scatter', x='Caffeine (mg)', y='Calories', title='Caffeine vs. Calories')"
   ]
  },
  {
   "cell_type": "code",
   "execution_count": null,
   "id": "4cddae5d-9443-43a9-9d2a-2d76e09aa253",
   "metadata": {},
   "outputs": [],
   "source": []
  },
  {
   "cell_type": "code",
   "execution_count": null,
   "id": "7230ad71-7e79-4aa0-b8c0-407a2f527b38",
   "metadata": {},
   "outputs": [],
   "source": []
  },
  {
   "cell_type": "code",
   "execution_count": null,
   "id": "db55187d-6fa3-4b72-8c8f-358fd6a31209",
   "metadata": {},
   "outputs": [],
   "source": []
  },
  {
   "cell_type": "code",
   "execution_count": null,
   "id": "686fd29b-60b4-4d45-97ee-6d747a95e44f",
   "metadata": {},
   "outputs": [],
   "source": []
  },
  {
   "cell_type": "code",
   "execution_count": null,
   "id": "7b477be5-f66e-4d1a-abb8-fbbedb1193ec",
   "metadata": {},
   "outputs": [],
   "source": []
  }
 ],
 "metadata": {
  "kernelspec": {
   "display_name": "Python 3 (ipykernel)",
   "language": "python",
   "name": "python3"
  },
  "language_info": {
   "codemirror_mode": {
    "name": "ipython",
    "version": 3
   },
   "file_extension": ".py",
   "mimetype": "text/x-python",
   "name": "python",
   "nbconvert_exporter": "python",
   "pygments_lexer": "ipython3",
   "version": "3.8.19"
  }
 },
 "nbformat": 4,
 "nbformat_minor": 5
}
