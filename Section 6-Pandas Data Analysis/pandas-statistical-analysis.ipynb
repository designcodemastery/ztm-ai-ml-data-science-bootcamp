{
 "cells": [
  {
   "cell_type": "markdown",
   "id": "53cff6b2-de42-4fb2-b3b3-52218a9e0edc",
   "metadata": {},
   "source": [
    "Pandas offers a variety of functions for statistical analysis, allowing you to easily perform descriptive and inferential statistics on datasets. Here’s a breakdown of some common statistical functions available in Pandas:\n",
    "\n",
    "### 1. **Descriptive Statistics**\n",
    "These functions help summarize data and describe the dataset’s features.\n",
    "\n",
    "- **`mean()`**: Calculates the mean (average) of a Series or DataFrame.\n",
    "- **`median()`**: Computes the median (middle value) of a Series or DataFrame.\n",
    "- **`mode()`**: Returns the mode (most frequent value) of a Series or DataFrame.\n",
    "- **`sum()`**: Returns the sum of values along an axis.\n",
    "- **`count()`**: Returns the number of non-null values.\n",
    "- **`std()`**: Calculates the standard deviation of a Series or DataFrame.\n",
    "- **`var()`**: Computes variance.\n",
    "- **`min()` / `max()`**: Returns the minimum or maximum value.\n",
    "- **`quantile()`**: Calculates the quantiles (e.g., 0.25 for 25th percentile).\n",
    "- **`cumsum()`**: Cumulative sum of values.\n",
    "- **`cumprod()`**: Cumulative product of values.\n",
    "\n",
    "### 2. **Correlations and Covariance**\n",
    "Pandas provides functions for measuring relationships between variables.\n",
    "\n",
    "- **`corr()`**: Computes pairwise correlation of columns, using methods like Pearson, Kendall, and Spearman.\n",
    "- **`cov()`**: Returns covariance between Series or columns in a DataFrame.\n",
    "- **`corrwith()`**: Computes the correlation between two DataFrames or between a DataFrame and Series.\n",
    "\n",
    "### 3. **Rank and Sorting**\n",
    "Pandas allows you to rank and sort data.\n",
    "\n",
    "- **`rank()`**: Computes rank of each value, optionally using different ranking methods.\n",
    "- **`sort_values()`**: Sorts values in ascending or descending order.\n",
    "- **`sort_index()`**: Sorts the index of a DataFrame.\n",
    "\n",
    "### 4. **Rolling and Expanding Windows**\n",
    "These are used to perform calculations over a rolling or expanding window of data.\n",
    "\n",
    "- **`rolling()`**: Provides rolling window calculations like mean, sum, etc.\n",
    "- **`expanding()`**: Provides expanding window calculations that include all values up to a point.\n",
    "- **`ewm()`**: Exponentially weighted window functions for smoothing and forecasting.\n",
    "\n",
    "### 5. **Other Functions**\n",
    "- **`describe()`**: Generates a summary of statistics, including count, mean, std, min, max, and quartiles.\n",
    "- **`skew()`**: Measures the skewness (asymmetry) of the data distribution.\n",
    "- **`kurt()`**: Measures the kurtosis (tailedness) of the data distribution.\n",
    "- **`pct_change()`**: Computes percentage change between consecutive elements.\n",
    "- **`mad()`**: Returns the mean absolute deviation of values.\n",
    "\n",
    "These functions are usually applied to Series or DataFrame objects, making Pandas a powerful library for statistical analysis in Python."
   ]
  },
  {
   "cell_type": "code",
   "execution_count": 1,
   "id": "ec1b0d2f-45db-4267-a789-85b5b5b17c7c",
   "metadata": {},
   "outputs": [],
   "source": [
    "import pandas as pd\n",
    "\n",
    "salaries = pd.read_csv('salaries.csv')"
   ]
  },
  {
   "cell_type": "markdown",
   "id": "7e4f9e7a-655c-43e4-b511-b080788b8c8b",
   "metadata": {},
   "source": [
    "## 1. Descriptive Statistics\n",
    "### mean()\n",
    "Calculate the average of each column."
   ]
  },
  {
   "cell_type": "code",
   "execution_count": 2,
   "id": "2aab09a1-e977-419f-bdfd-3a24ac4e45cd",
   "metadata": {},
   "outputs": [
    {
     "data": {
      "text/plain": [
       "id             50.5000\n",
       "age            32.2900\n",
       "income      66354.8610\n",
       "expenses    27560.8275\n",
       "savings     22816.7110\n",
       "dtype: float64"
      ]
     },
     "execution_count": 2,
     "metadata": {},
     "output_type": "execute_result"
    }
   ],
   "source": [
    "mean_values = salaries.mean()\n",
    "mean_values"
   ]
  },
  {
   "cell_type": "markdown",
   "id": "c9ee99a2-1dae-4365-b9a5-e008046166a9",
   "metadata": {},
   "source": [
    "### median()\n",
    "Find the median of each column."
   ]
  },
  {
   "cell_type": "code",
   "execution_count": 4,
   "id": "533f74af-a11d-4c77-a38e-407e9156538c",
   "metadata": {},
   "outputs": [
    {
     "data": {
      "text/plain": [
       "id             50.500\n",
       "age            32.000\n",
       "income      65000.375\n",
       "expenses    27000.000\n",
       "savings     22500.500\n",
       "dtype: float64"
      ]
     },
     "execution_count": 4,
     "metadata": {},
     "output_type": "execute_result"
    }
   ],
   "source": [
    "median_values = salaries.median()\n",
    "median_values"
   ]
  },
  {
   "cell_type": "markdown",
   "id": "23b14241-c11f-4bc5-9deb-8a65d30fc865",
   "metadata": {},
   "source": [
    "### mode()\n",
    "Find the most frequent value in each column."
   ]
  },
  {
   "cell_type": "code",
   "execution_count": 5,
   "id": "2567a027-a0e1-4dbc-8520-37fb5b889c52",
   "metadata": {},
   "outputs": [
    {
     "data": {
      "text/html": [
       "<div>\n",
       "<style scoped>\n",
       "    .dataframe tbody tr th:only-of-type {\n",
       "        vertical-align: middle;\n",
       "    }\n",
       "\n",
       "    .dataframe tbody tr th {\n",
       "        vertical-align: top;\n",
       "    }\n",
       "\n",
       "    .dataframe thead th {\n",
       "        text-align: right;\n",
       "    }\n",
       "</style>\n",
       "<table border=\"1\" class=\"dataframe\">\n",
       "  <thead>\n",
       "    <tr style=\"text-align: right;\">\n",
       "      <th></th>\n",
       "      <th>id</th>\n",
       "      <th>age</th>\n",
       "      <th>income</th>\n",
       "      <th>expenses</th>\n",
       "      <th>savings</th>\n",
       "    </tr>\n",
       "  </thead>\n",
       "  <tbody>\n",
       "    <tr>\n",
       "      <th>0</th>\n",
       "      <td>1</td>\n",
       "      <td>29.0</td>\n",
       "      <td>78500.5</td>\n",
       "      <td>26500.0</td>\n",
       "      <td>19500.0</td>\n",
       "    </tr>\n",
       "    <tr>\n",
       "      <th>1</th>\n",
       "      <td>2</td>\n",
       "      <td>30.0</td>\n",
       "      <td>NaN</td>\n",
       "      <td>29000.5</td>\n",
       "      <td>20500.0</td>\n",
       "    </tr>\n",
       "    <tr>\n",
       "      <th>2</th>\n",
       "      <td>3</td>\n",
       "      <td>31.0</td>\n",
       "      <td>NaN</td>\n",
       "      <td>30000.0</td>\n",
       "      <td>21000.0</td>\n",
       "    </tr>\n",
       "    <tr>\n",
       "      <th>3</th>\n",
       "      <td>4</td>\n",
       "      <td>NaN</td>\n",
       "      <td>NaN</td>\n",
       "      <td>33500.5</td>\n",
       "      <td>23500.0</td>\n",
       "    </tr>\n",
       "    <tr>\n",
       "      <th>4</th>\n",
       "      <td>5</td>\n",
       "      <td>NaN</td>\n",
       "      <td>NaN</td>\n",
       "      <td>NaN</td>\n",
       "      <td>NaN</td>\n",
       "    </tr>\n",
       "    <tr>\n",
       "      <th>...</th>\n",
       "      <td>...</td>\n",
       "      <td>...</td>\n",
       "      <td>...</td>\n",
       "      <td>...</td>\n",
       "      <td>...</td>\n",
       "    </tr>\n",
       "    <tr>\n",
       "      <th>95</th>\n",
       "      <td>96</td>\n",
       "      <td>NaN</td>\n",
       "      <td>NaN</td>\n",
       "      <td>NaN</td>\n",
       "      <td>NaN</td>\n",
       "    </tr>\n",
       "    <tr>\n",
       "      <th>96</th>\n",
       "      <td>97</td>\n",
       "      <td>NaN</td>\n",
       "      <td>NaN</td>\n",
       "      <td>NaN</td>\n",
       "      <td>NaN</td>\n",
       "    </tr>\n",
       "    <tr>\n",
       "      <th>97</th>\n",
       "      <td>98</td>\n",
       "      <td>NaN</td>\n",
       "      <td>NaN</td>\n",
       "      <td>NaN</td>\n",
       "      <td>NaN</td>\n",
       "    </tr>\n",
       "    <tr>\n",
       "      <th>98</th>\n",
       "      <td>99</td>\n",
       "      <td>NaN</td>\n",
       "      <td>NaN</td>\n",
       "      <td>NaN</td>\n",
       "      <td>NaN</td>\n",
       "    </tr>\n",
       "    <tr>\n",
       "      <th>99</th>\n",
       "      <td>100</td>\n",
       "      <td>NaN</td>\n",
       "      <td>NaN</td>\n",
       "      <td>NaN</td>\n",
       "      <td>NaN</td>\n",
       "    </tr>\n",
       "  </tbody>\n",
       "</table>\n",
       "<p>100 rows × 5 columns</p>\n",
       "</div>"
      ],
      "text/plain": [
       "     id   age   income  expenses  savings\n",
       "0     1  29.0  78500.5   26500.0  19500.0\n",
       "1     2  30.0      NaN   29000.5  20500.0\n",
       "2     3  31.0      NaN   30000.0  21000.0\n",
       "3     4   NaN      NaN   33500.5  23500.0\n",
       "4     5   NaN      NaN       NaN      NaN\n",
       "..  ...   ...      ...       ...      ...\n",
       "95   96   NaN      NaN       NaN      NaN\n",
       "96   97   NaN      NaN       NaN      NaN\n",
       "97   98   NaN      NaN       NaN      NaN\n",
       "98   99   NaN      NaN       NaN      NaN\n",
       "99  100   NaN      NaN       NaN      NaN\n",
       "\n",
       "[100 rows x 5 columns]"
      ]
     },
     "execution_count": 5,
     "metadata": {},
     "output_type": "execute_result"
    }
   ],
   "source": [
    "mode_values = salaries.mode()\n",
    "mode_values\n"
   ]
  },
  {
   "cell_type": "markdown",
   "id": "b5e00cc3-a2e5-4537-9127-6a9fe9f0f903",
   "metadata": {},
   "source": [
    "### sum()\n",
    "Calculate the sum of all values in each column."
   ]
  },
  {
   "cell_type": "code",
   "execution_count": 6,
   "id": "68878e66-c3d8-4b10-9847-1e876ee98ad9",
   "metadata": {},
   "outputs": [
    {
     "data": {
      "text/plain": [
       "id             5050.00\n",
       "age            3229.00\n",
       "income      6635486.10\n",
       "expenses    2756082.75\n",
       "savings     2281671.10\n",
       "dtype: float64"
      ]
     },
     "execution_count": 6,
     "metadata": {},
     "output_type": "execute_result"
    }
   ],
   "source": [
    "total_sum = salaries.sum()\n",
    "total_sum"
   ]
  },
  {
   "cell_type": "markdown",
   "id": "12951ba5-860d-41cb-9d5e-e6f3ef2cc2d5",
   "metadata": {},
   "source": [
    "### count()\n",
    "Count the number of non-null values in each column."
   ]
  },
  {
   "cell_type": "code",
   "execution_count": 7,
   "id": "03e81d03-af93-4be1-b4d7-9ca23a390f38",
   "metadata": {},
   "outputs": [
    {
     "data": {
      "text/plain": [
       "id          100\n",
       "age         100\n",
       "income      100\n",
       "expenses    100\n",
       "savings     100\n",
       "dtype: int64"
      ]
     },
     "execution_count": 7,
     "metadata": {},
     "output_type": "execute_result"
    }
   ],
   "source": [
    "non_null_count = salaries.count()\n",
    "non_null_count"
   ]
  },
  {
   "cell_type": "markdown",
   "id": "8ac4a150-4e1a-40a9-b924-e24c3f5ab66e",
   "metadata": {},
   "source": [
    "### std()\n",
    "Calculate the standard deviation of each column."
   ]
  },
  {
   "cell_type": "code",
   "execution_count": 8,
   "id": "6de7a167-91c9-49ba-a311-4102f6901f84",
   "metadata": {},
   "outputs": [
    {
     "data": {
      "text/plain": [
       "id             29.011492\n",
       "age             5.031808\n",
       "income      10630.116550\n",
       "expenses     5082.489939\n",
       "savings      5061.465243\n",
       "dtype: float64"
      ]
     },
     "execution_count": 8,
     "metadata": {},
     "output_type": "execute_result"
    }
   ],
   "source": [
    "std_dev = salaries.std()\n",
    "std_dev"
   ]
  },
  {
   "cell_type": "markdown",
   "id": "6cafefe1-b87a-4daa-9c7a-e581ac5d16aa",
   "metadata": {},
   "source": [
    "### var()\n",
    "Calculate the variance of each column."
   ]
  },
  {
   "cell_type": "code",
   "execution_count": 9,
   "id": "b87eb60b-c2fb-4d03-b1f1-1394914cc561",
   "metadata": {},
   "outputs": [
    {
     "data": {
      "text/plain": [
       "id          8.416667e+02\n",
       "age         2.531909e+01\n",
       "income      1.129994e+08\n",
       "expenses    2.583170e+07\n",
       "savings     2.561843e+07\n",
       "dtype: float64"
      ]
     },
     "execution_count": 9,
     "metadata": {},
     "output_type": "execute_result"
    }
   ],
   "source": [
    "variance = salaries.var()\n",
    "variance"
   ]
  },
  {
   "cell_type": "markdown",
   "id": "644d456b-3827-4246-b015-e308b3dd93a8",
   "metadata": {},
   "source": [
    "### min() and max()\n",
    "Find the minimum and maximum values in each column."
   ]
  },
  {
   "cell_type": "code",
   "execution_count": 11,
   "id": "784b17cb-0777-4cc6-a690-41ee41fdaa29",
   "metadata": {},
   "outputs": [
    {
     "data": {
      "text/plain": [
       "id              1.00\n",
       "age            22.00\n",
       "income      45000.00\n",
       "expenses    17000.25\n",
       "savings     11000.00\n",
       "dtype: float64"
      ]
     },
     "execution_count": 11,
     "metadata": {},
     "output_type": "execute_result"
    }
   ],
   "source": [
    "min_values = salaries.min()\n",
    "min_values"
   ]
  },
  {
   "cell_type": "code",
   "execution_count": 12,
   "id": "df8fd87d-cdd0-41c7-a8fd-ebe960287377",
   "metadata": {},
   "outputs": [
    {
     "data": {
      "text/plain": [
       "id            100.00\n",
       "age            42.00\n",
       "income      83500.50\n",
       "expenses    37000.50\n",
       "savings     31500.75\n",
       "dtype: float64"
      ]
     },
     "execution_count": 12,
     "metadata": {},
     "output_type": "execute_result"
    }
   ],
   "source": [
    "max_values = salaries.max()\n",
    "max_values"
   ]
  },
  {
   "cell_type": "markdown",
   "id": "c98db6ee-a9c4-42c2-bf28-ea6c2f1ff424",
   "metadata": {},
   "source": [
    "### quantile()\n",
    "Calculate the 25th percentile (1st quartile)."
   ]
  },
  {
   "cell_type": "code",
   "execution_count": 13,
   "id": "063b0b53-3f31-4ed6-8ef6-c675e3eba629",
   "metadata": {},
   "outputs": [
    {
     "data": {
      "text/plain": [
       "id             25.7500\n",
       "age            28.7500\n",
       "income      59875.1875\n",
       "expenses    24800.5625\n",
       "savings     20037.6250\n",
       "Name: 0.25, dtype: float64"
      ]
     },
     "execution_count": 13,
     "metadata": {},
     "output_type": "execute_result"
    }
   ],
   "source": [
    "quantile_25 = salaries.quantile(0.25)\n",
    "quantile_25"
   ]
  },
  {
   "cell_type": "markdown",
   "id": "ebec44a2-576f-4823-ac6b-1cf721457a85",
   "metadata": {},
   "source": [
    "### cumsum()\n",
    "Compute the cumulative sum of each column."
   ]
  },
  {
   "cell_type": "code",
   "execution_count": 14,
   "id": "3969de7e-7b98-4bb4-8d3f-25468b82806a",
   "metadata": {},
   "outputs": [
    {
     "data": {
      "text/html": [
       "<div>\n",
       "<style scoped>\n",
       "    .dataframe tbody tr th:only-of-type {\n",
       "        vertical-align: middle;\n",
       "    }\n",
       "\n",
       "    .dataframe tbody tr th {\n",
       "        vertical-align: top;\n",
       "    }\n",
       "\n",
       "    .dataframe thead th {\n",
       "        text-align: right;\n",
       "    }\n",
       "</style>\n",
       "<table border=\"1\" class=\"dataframe\">\n",
       "  <thead>\n",
       "    <tr style=\"text-align: right;\">\n",
       "      <th></th>\n",
       "      <th>id</th>\n",
       "      <th>age</th>\n",
       "      <th>income</th>\n",
       "      <th>expenses</th>\n",
       "      <th>savings</th>\n",
       "    </tr>\n",
       "  </thead>\n",
       "  <tbody>\n",
       "    <tr>\n",
       "      <th>0</th>\n",
       "      <td>1</td>\n",
       "      <td>25</td>\n",
       "      <td>50500.75</td>\n",
       "      <td>20050.25</td>\n",
       "      <td>15200.50</td>\n",
       "    </tr>\n",
       "    <tr>\n",
       "      <th>1</th>\n",
       "      <td>3</td>\n",
       "      <td>55</td>\n",
       "      <td>110901.60</td>\n",
       "      <td>45251.00</td>\n",
       "      <td>35250.50</td>\n",
       "    </tr>\n",
       "    <tr>\n",
       "      <th>2</th>\n",
       "      <td>6</td>\n",
       "      <td>77</td>\n",
       "      <td>159001.60</td>\n",
       "      <td>63251.50</td>\n",
       "      <td>47300.60</td>\n",
       "    </tr>\n",
       "    <tr>\n",
       "      <th>3</th>\n",
       "      <td>10</td>\n",
       "      <td>117</td>\n",
       "      <td>240001.85</td>\n",
       "      <td>98551.50</td>\n",
       "      <td>77551.10</td>\n",
       "    </tr>\n",
       "    <tr>\n",
       "      <th>4</th>\n",
       "      <td>15</td>\n",
       "      <td>152</td>\n",
       "      <td>315202.60</td>\n",
       "      <td>128651.50</td>\n",
       "      <td>102751.10</td>\n",
       "    </tr>\n",
       "    <tr>\n",
       "      <th>...</th>\n",
       "      <td>...</td>\n",
       "      <td>...</td>\n",
       "      <td>...</td>\n",
       "      <td>...</td>\n",
       "      <td>...</td>\n",
       "    </tr>\n",
       "    <tr>\n",
       "      <th>95</th>\n",
       "      <td>4656</td>\n",
       "      <td>3110</td>\n",
       "      <td>6387485.10</td>\n",
       "      <td>2655082.25</td>\n",
       "      <td>2199170.60</td>\n",
       "    </tr>\n",
       "    <tr>\n",
       "      <th>96</th>\n",
       "      <td>4753</td>\n",
       "      <td>3141</td>\n",
       "      <td>6450985.60</td>\n",
       "      <td>2681082.25</td>\n",
       "      <td>2221170.85</td>\n",
       "    </tr>\n",
       "    <tr>\n",
       "      <th>97</th>\n",
       "      <td>4851</td>\n",
       "      <td>3176</td>\n",
       "      <td>6525485.85</td>\n",
       "      <td>2711082.25</td>\n",
       "      <td>2246170.85</td>\n",
       "    </tr>\n",
       "    <tr>\n",
       "      <th>98</th>\n",
       "      <td>4950</td>\n",
       "      <td>3204</td>\n",
       "      <td>6585485.85</td>\n",
       "      <td>2736082.25</td>\n",
       "      <td>2266171.10</td>\n",
       "    </tr>\n",
       "    <tr>\n",
       "      <th>99</th>\n",
       "      <td>5050</td>\n",
       "      <td>3229</td>\n",
       "      <td>6635486.10</td>\n",
       "      <td>2756082.75</td>\n",
       "      <td>2281671.10</td>\n",
       "    </tr>\n",
       "  </tbody>\n",
       "</table>\n",
       "<p>100 rows × 5 columns</p>\n",
       "</div>"
      ],
      "text/plain": [
       "      id   age      income    expenses     savings\n",
       "0      1    25    50500.75    20050.25    15200.50\n",
       "1      3    55   110901.60    45251.00    35250.50\n",
       "2      6    77   159001.60    63251.50    47300.60\n",
       "3     10   117   240001.85    98551.50    77551.10\n",
       "4     15   152   315202.60   128651.50   102751.10\n",
       "..   ...   ...         ...         ...         ...\n",
       "95  4656  3110  6387485.10  2655082.25  2199170.60\n",
       "96  4753  3141  6450985.60  2681082.25  2221170.85\n",
       "97  4851  3176  6525485.85  2711082.25  2246170.85\n",
       "98  4950  3204  6585485.85  2736082.25  2266171.10\n",
       "99  5050  3229  6635486.10  2756082.75  2281671.10\n",
       "\n",
       "[100 rows x 5 columns]"
      ]
     },
     "execution_count": 14,
     "metadata": {},
     "output_type": "execute_result"
    }
   ],
   "source": [
    "cumulative_sum = salaries.cumsum()\n",
    "cumulative_sum"
   ]
  },
  {
   "cell_type": "markdown",
   "id": "4c89a006-f3c6-4795-88bd-60368e2ecf59",
   "metadata": {},
   "source": [
    "### cumprod()\n",
    "Compute the cumulative product of each column. (**Investigate warning**)"
   ]
  },
  {
   "cell_type": "code",
   "execution_count": 16,
   "id": "9293d05c-6d8c-4e34-b62c-7538989e743b",
   "metadata": {},
   "outputs": [
    {
     "name": "stderr",
     "output_type": "stream",
     "text": [
      "C:\\Users\\marti\\Projects\\ztm\\ztm-ai-ml-data-science-bootcamp\\env\\lib\\site-packages\\numpy\\core\\fromnumeric.py:57: RuntimeWarning: overflow encountered in accumulate\n",
      "  return bound(*args, **kwds)\n"
     ]
    },
    {
     "data": {
      "text/html": [
       "<div>\n",
       "<style scoped>\n",
       "    .dataframe tbody tr th:only-of-type {\n",
       "        vertical-align: middle;\n",
       "    }\n",
       "\n",
       "    .dataframe tbody tr th {\n",
       "        vertical-align: top;\n",
       "    }\n",
       "\n",
       "    .dataframe thead th {\n",
       "        text-align: right;\n",
       "    }\n",
       "</style>\n",
       "<table border=\"1\" class=\"dataframe\">\n",
       "  <thead>\n",
       "    <tr style=\"text-align: right;\">\n",
       "      <th></th>\n",
       "      <th>id</th>\n",
       "      <th>age</th>\n",
       "      <th>income</th>\n",
       "      <th>expenses</th>\n",
       "      <th>savings</th>\n",
       "    </tr>\n",
       "  </thead>\n",
       "  <tbody>\n",
       "    <tr>\n",
       "      <th>0</th>\n",
       "      <td>1</td>\n",
       "      <td>25</td>\n",
       "      <td>5.050075e+04</td>\n",
       "      <td>2.005025e+04</td>\n",
       "      <td>1.520050e+04</td>\n",
       "    </tr>\n",
       "    <tr>\n",
       "      <th>1</th>\n",
       "      <td>2</td>\n",
       "      <td>750</td>\n",
       "      <td>3.050288e+09</td>\n",
       "      <td>5.052813e+08</td>\n",
       "      <td>3.047700e+08</td>\n",
       "    </tr>\n",
       "    <tr>\n",
       "      <th>2</th>\n",
       "      <td>6</td>\n",
       "      <td>16500</td>\n",
       "      <td>1.467189e+14</td>\n",
       "      <td>9.095317e+12</td>\n",
       "      <td>3.672509e+12</td>\n",
       "    </tr>\n",
       "    <tr>\n",
       "      <th>3</th>\n",
       "      <td>24</td>\n",
       "      <td>660000</td>\n",
       "      <td>1.188426e+19</td>\n",
       "      <td>3.210647e+17</td>\n",
       "      <td>1.110952e+17</td>\n",
       "    </tr>\n",
       "    <tr>\n",
       "      <th>4</th>\n",
       "      <td>120</td>\n",
       "      <td>23100000</td>\n",
       "      <td>8.937056e+23</td>\n",
       "      <td>9.664047e+21</td>\n",
       "      <td>2.799600e+21</td>\n",
       "    </tr>\n",
       "    <tr>\n",
       "      <th>...</th>\n",
       "      <td>...</td>\n",
       "      <td>...</td>\n",
       "      <td>...</td>\n",
       "      <td>...</td>\n",
       "      <td>...</td>\n",
       "    </tr>\n",
       "    <tr>\n",
       "      <th>95</th>\n",
       "      <td>0</td>\n",
       "      <td>0</td>\n",
       "      <td>inf</td>\n",
       "      <td>inf</td>\n",
       "      <td>inf</td>\n",
       "    </tr>\n",
       "    <tr>\n",
       "      <th>96</th>\n",
       "      <td>0</td>\n",
       "      <td>0</td>\n",
       "      <td>inf</td>\n",
       "      <td>inf</td>\n",
       "      <td>inf</td>\n",
       "    </tr>\n",
       "    <tr>\n",
       "      <th>97</th>\n",
       "      <td>0</td>\n",
       "      <td>0</td>\n",
       "      <td>inf</td>\n",
       "      <td>inf</td>\n",
       "      <td>inf</td>\n",
       "    </tr>\n",
       "    <tr>\n",
       "      <th>98</th>\n",
       "      <td>0</td>\n",
       "      <td>0</td>\n",
       "      <td>inf</td>\n",
       "      <td>inf</td>\n",
       "      <td>inf</td>\n",
       "    </tr>\n",
       "    <tr>\n",
       "      <th>99</th>\n",
       "      <td>0</td>\n",
       "      <td>0</td>\n",
       "      <td>inf</td>\n",
       "      <td>inf</td>\n",
       "      <td>inf</td>\n",
       "    </tr>\n",
       "  </tbody>\n",
       "</table>\n",
       "<p>100 rows × 5 columns</p>\n",
       "</div>"
      ],
      "text/plain": [
       "     id       age        income      expenses       savings\n",
       "0     1        25  5.050075e+04  2.005025e+04  1.520050e+04\n",
       "1     2       750  3.050288e+09  5.052813e+08  3.047700e+08\n",
       "2     6     16500  1.467189e+14  9.095317e+12  3.672509e+12\n",
       "3    24    660000  1.188426e+19  3.210647e+17  1.110952e+17\n",
       "4   120  23100000  8.937056e+23  9.664047e+21  2.799600e+21\n",
       "..  ...       ...           ...           ...           ...\n",
       "95    0         0           inf           inf           inf\n",
       "96    0         0           inf           inf           inf\n",
       "97    0         0           inf           inf           inf\n",
       "98    0         0           inf           inf           inf\n",
       "99    0         0           inf           inf           inf\n",
       "\n",
       "[100 rows x 5 columns]"
      ]
     },
     "execution_count": 16,
     "metadata": {},
     "output_type": "execute_result"
    }
   ],
   "source": [
    "cumulative_prod = salaries.cumprod()\n",
    "cumulative_prod"
   ]
  },
  {
   "cell_type": "markdown",
   "id": "bfe27797-6c2e-4814-835d-b3932b7e58e0",
   "metadata": {},
   "source": [
    "## 2. Correlations and Covariance\n",
    "\n",
    "### corr()\n",
    "Calculate the correlation between columns."
   ]
  },
  {
   "cell_type": "code",
   "execution_count": 17,
   "id": "78046d2d-3b62-4bbb-8903-c1d249d36de8",
   "metadata": {},
   "outputs": [
    {
     "data": {
      "text/html": [
       "<div>\n",
       "<style scoped>\n",
       "    .dataframe tbody tr th:only-of-type {\n",
       "        vertical-align: middle;\n",
       "    }\n",
       "\n",
       "    .dataframe tbody tr th {\n",
       "        vertical-align: top;\n",
       "    }\n",
       "\n",
       "    .dataframe thead th {\n",
       "        text-align: right;\n",
       "    }\n",
       "</style>\n",
       "<table border=\"1\" class=\"dataframe\">\n",
       "  <thead>\n",
       "    <tr style=\"text-align: right;\">\n",
       "      <th></th>\n",
       "      <th>id</th>\n",
       "      <th>age</th>\n",
       "      <th>income</th>\n",
       "      <th>expenses</th>\n",
       "      <th>savings</th>\n",
       "    </tr>\n",
       "  </thead>\n",
       "  <tbody>\n",
       "    <tr>\n",
       "      <th>id</th>\n",
       "      <td>1.000000</td>\n",
       "      <td>0.034355</td>\n",
       "      <td>0.039697</td>\n",
       "      <td>0.053692</td>\n",
       "      <td>0.073731</td>\n",
       "    </tr>\n",
       "    <tr>\n",
       "      <th>age</th>\n",
       "      <td>0.034355</td>\n",
       "      <td>1.000000</td>\n",
       "      <td>0.974423</td>\n",
       "      <td>0.977348</td>\n",
       "      <td>0.967789</td>\n",
       "    </tr>\n",
       "    <tr>\n",
       "      <th>income</th>\n",
       "      <td>0.039697</td>\n",
       "      <td>0.974423</td>\n",
       "      <td>1.000000</td>\n",
       "      <td>0.988673</td>\n",
       "      <td>0.983218</td>\n",
       "    </tr>\n",
       "    <tr>\n",
       "      <th>expenses</th>\n",
       "      <td>0.053692</td>\n",
       "      <td>0.977348</td>\n",
       "      <td>0.988673</td>\n",
       "      <td>1.000000</td>\n",
       "      <td>0.994247</td>\n",
       "    </tr>\n",
       "    <tr>\n",
       "      <th>savings</th>\n",
       "      <td>0.073731</td>\n",
       "      <td>0.967789</td>\n",
       "      <td>0.983218</td>\n",
       "      <td>0.994247</td>\n",
       "      <td>1.000000</td>\n",
       "    </tr>\n",
       "  </tbody>\n",
       "</table>\n",
       "</div>"
      ],
      "text/plain": [
       "                id       age    income  expenses   savings\n",
       "id        1.000000  0.034355  0.039697  0.053692  0.073731\n",
       "age       0.034355  1.000000  0.974423  0.977348  0.967789\n",
       "income    0.039697  0.974423  1.000000  0.988673  0.983218\n",
       "expenses  0.053692  0.977348  0.988673  1.000000  0.994247\n",
       "savings   0.073731  0.967789  0.983218  0.994247  1.000000"
      ]
     },
     "execution_count": 17,
     "metadata": {},
     "output_type": "execute_result"
    }
   ],
   "source": [
    "correlation = salaries.corr()\n",
    "correlation"
   ]
  },
  {
   "cell_type": "markdown",
   "id": "e29f61e5-180b-4d4c-8e9b-06bf8bc741d4",
   "metadata": {},
   "source": [
    "### cov()\n",
    "Calculate the covariance between columns."
   ]
  },
  {
   "cell_type": "code",
   "execution_count": 19,
   "id": "39b002ce-d480-4837-9fe0-7aa23745d1b7",
   "metadata": {},
   "outputs": [
    {
     "data": {
      "text/html": [
       "<div>\n",
       "<style scoped>\n",
       "    .dataframe tbody tr th:only-of-type {\n",
       "        vertical-align: middle;\n",
       "    }\n",
       "\n",
       "    .dataframe tbody tr th {\n",
       "        vertical-align: top;\n",
       "    }\n",
       "\n",
       "    .dataframe thead th {\n",
       "        text-align: right;\n",
       "    }\n",
       "</style>\n",
       "<table border=\"1\" class=\"dataframe\">\n",
       "  <thead>\n",
       "    <tr style=\"text-align: right;\">\n",
       "      <th></th>\n",
       "      <th>id</th>\n",
       "      <th>age</th>\n",
       "      <th>income</th>\n",
       "      <th>expenses</th>\n",
       "      <th>savings</th>\n",
       "    </tr>\n",
       "  </thead>\n",
       "  <tbody>\n",
       "    <tr>\n",
       "      <th>id</th>\n",
       "      <td>841.666667</td>\n",
       "      <td>5.015152</td>\n",
       "      <td>1.224247e+04</td>\n",
       "      <td>7.916932e+03</td>\n",
       "      <td>1.082665e+04</td>\n",
       "    </tr>\n",
       "    <tr>\n",
       "      <th>age</th>\n",
       "      <td>5.015152</td>\n",
       "      <td>25.319091</td>\n",
       "      <td>5.212061e+04</td>\n",
       "      <td>2.499480e+04</td>\n",
       "      <td>2.464795e+04</td>\n",
       "    </tr>\n",
       "    <tr>\n",
       "      <th>income</th>\n",
       "      <td>12242.469192</td>\n",
       "      <td>52120.612939</td>\n",
       "      <td>1.129994e+08</td>\n",
       "      <td>5.341547e+07</td>\n",
       "      <td>5.290101e+07</td>\n",
       "    </tr>\n",
       "    <tr>\n",
       "      <th>expenses</th>\n",
       "      <td>7916.931566</td>\n",
       "      <td>24994.804066</td>\n",
       "      <td>5.341547e+07</td>\n",
       "      <td>2.583170e+07</td>\n",
       "      <td>2.557685e+07</td>\n",
       "    </tr>\n",
       "    <tr>\n",
       "      <th>savings</th>\n",
       "      <td>10826.651515</td>\n",
       "      <td>24647.948293</td>\n",
       "      <td>5.290101e+07</td>\n",
       "      <td>2.557685e+07</td>\n",
       "      <td>2.561843e+07</td>\n",
       "    </tr>\n",
       "  </tbody>\n",
       "</table>\n",
       "</div>"
      ],
      "text/plain": [
       "                    id           age        income      expenses       savings\n",
       "id          841.666667      5.015152  1.224247e+04  7.916932e+03  1.082665e+04\n",
       "age           5.015152     25.319091  5.212061e+04  2.499480e+04  2.464795e+04\n",
       "income    12242.469192  52120.612939  1.129994e+08  5.341547e+07  5.290101e+07\n",
       "expenses   7916.931566  24994.804066  5.341547e+07  2.583170e+07  2.557685e+07\n",
       "savings   10826.651515  24647.948293  5.290101e+07  2.557685e+07  2.561843e+07"
      ]
     },
     "execution_count": 19,
     "metadata": {},
     "output_type": "execute_result"
    }
   ],
   "source": [
    "covariance = salaries.cov()\n",
    "covariance"
   ]
  },
  {
   "cell_type": "markdown",
   "id": "40a6e1bb-879e-4918-bce7-bcfdc5058abb",
   "metadata": {},
   "source": [
    "### corrwith()\n",
    "Compute correlation with another Series or DataFrame. For example, let’s calculate correlation of all columns with income."
   ]
  },
  {
   "cell_type": "code",
   "execution_count": 22,
   "id": "1cab30bf-8043-4a7f-8cb1-969a56a4a65e",
   "metadata": {},
   "outputs": [
    {
     "data": {
      "text/plain": [
       "id          0.039697\n",
       "age         0.974423\n",
       "income      1.000000\n",
       "expenses    0.988673\n",
       "savings     0.983218\n",
       "dtype: float64"
      ]
     },
     "execution_count": 22,
     "metadata": {},
     "output_type": "execute_result"
    }
   ],
   "source": [
    "correlation_with_income = salaries.corrwith(salaries['income'])\n",
    "correlation_with_income"
   ]
  },
  {
   "cell_type": "markdown",
   "id": "81746a35-bdde-4103-9473-b574f2849928",
   "metadata": {},
   "source": [
    "## 3. Rank and Sorting\n",
    "### rank()\n",
    "Rank the values of the income column."
   ]
  },
  {
   "cell_type": "code",
   "execution_count": 23,
   "id": "f7d66dd1-ba67-4d8d-9625-e97d5208b77a",
   "metadata": {},
   "outputs": [
    {
     "data": {
      "text/plain": [
       "0     12.0\n",
       "1     29.0\n",
       "2      5.0\n",
       "3     96.0\n",
       "4     72.0\n",
       "      ... \n",
       "95    63.0\n",
       "96    46.0\n",
       "97    70.0\n",
       "98    26.0\n",
       "99    10.0\n",
       "Name: income, Length: 100, dtype: float64"
      ]
     },
     "execution_count": 23,
     "metadata": {},
     "output_type": "execute_result"
    }
   ],
   "source": [
    "income_rank = salaries['income'].rank()\n",
    "income_rank"
   ]
  },
  {
   "cell_type": "markdown",
   "id": "d9826fb6-2491-4345-a7c3-fccfb4a1c052",
   "metadata": {},
   "source": [
    "### sort_values()\n",
    "Sort the rows by income in ascending order."
   ]
  },
  {
   "cell_type": "code",
   "execution_count": 24,
   "id": "75abff62-3efa-4515-ae50-d2e3b9addfec",
   "metadata": {},
   "outputs": [
    {
     "data": {
      "text/html": [
       "<div>\n",
       "<style scoped>\n",
       "    .dataframe tbody tr th:only-of-type {\n",
       "        vertical-align: middle;\n",
       "    }\n",
       "\n",
       "    .dataframe tbody tr th {\n",
       "        vertical-align: top;\n",
       "    }\n",
       "\n",
       "    .dataframe thead th {\n",
       "        text-align: right;\n",
       "    }\n",
       "</style>\n",
       "<table border=\"1\" class=\"dataframe\">\n",
       "  <thead>\n",
       "    <tr style=\"text-align: right;\">\n",
       "      <th></th>\n",
       "      <th>id</th>\n",
       "      <th>age</th>\n",
       "      <th>income</th>\n",
       "      <th>expenses</th>\n",
       "      <th>savings</th>\n",
       "    </tr>\n",
       "  </thead>\n",
       "  <tbody>\n",
       "    <tr>\n",
       "      <th>56</th>\n",
       "      <td>57</td>\n",
       "      <td>24</td>\n",
       "      <td>45000.00</td>\n",
       "      <td>17500.00</td>\n",
       "      <td>11500.00</td>\n",
       "    </tr>\n",
       "    <tr>\n",
       "      <th>10</th>\n",
       "      <td>11</td>\n",
       "      <td>24</td>\n",
       "      <td>45000.00</td>\n",
       "      <td>17000.25</td>\n",
       "      <td>11000.00</td>\n",
       "    </tr>\n",
       "    <tr>\n",
       "      <th>78</th>\n",
       "      <td>79</td>\n",
       "      <td>24</td>\n",
       "      <td>45000.75</td>\n",
       "      <td>18000.00</td>\n",
       "      <td>12000.00</td>\n",
       "    </tr>\n",
       "    <tr>\n",
       "      <th>30</th>\n",
       "      <td>31</td>\n",
       "      <td>24</td>\n",
       "      <td>46000.00</td>\n",
       "      <td>17500.25</td>\n",
       "      <td>12000.00</td>\n",
       "    </tr>\n",
       "    <tr>\n",
       "      <th>2</th>\n",
       "      <td>3</td>\n",
       "      <td>22</td>\n",
       "      <td>48100.00</td>\n",
       "      <td>18000.50</td>\n",
       "      <td>12050.10</td>\n",
       "    </tr>\n",
       "    <tr>\n",
       "      <th>...</th>\n",
       "      <td>...</td>\n",
       "      <td>...</td>\n",
       "      <td>...</td>\n",
       "      <td>...</td>\n",
       "      <td>...</td>\n",
       "    </tr>\n",
       "    <tr>\n",
       "      <th>3</th>\n",
       "      <td>4</td>\n",
       "      <td>40</td>\n",
       "      <td>81000.25</td>\n",
       "      <td>35300.00</td>\n",
       "      <td>30250.50</td>\n",
       "    </tr>\n",
       "    <tr>\n",
       "      <th>16</th>\n",
       "      <td>17</td>\n",
       "      <td>39</td>\n",
       "      <td>81250.75</td>\n",
       "      <td>36000.50</td>\n",
       "      <td>30500.00</td>\n",
       "    </tr>\n",
       "    <tr>\n",
       "      <th>76</th>\n",
       "      <td>77</td>\n",
       "      <td>41</td>\n",
       "      <td>82500.00</td>\n",
       "      <td>36000.25</td>\n",
       "      <td>31500.00</td>\n",
       "    </tr>\n",
       "    <tr>\n",
       "      <th>20</th>\n",
       "      <td>21</td>\n",
       "      <td>42</td>\n",
       "      <td>82500.75</td>\n",
       "      <td>37000.25</td>\n",
       "      <td>31500.50</td>\n",
       "    </tr>\n",
       "    <tr>\n",
       "      <th>67</th>\n",
       "      <td>68</td>\n",
       "      <td>42</td>\n",
       "      <td>83500.50</td>\n",
       "      <td>37000.50</td>\n",
       "      <td>31500.75</td>\n",
       "    </tr>\n",
       "  </tbody>\n",
       "</table>\n",
       "<p>100 rows × 5 columns</p>\n",
       "</div>"
      ],
      "text/plain": [
       "    id  age    income  expenses   savings\n",
       "56  57   24  45000.00  17500.00  11500.00\n",
       "10  11   24  45000.00  17000.25  11000.00\n",
       "78  79   24  45000.75  18000.00  12000.00\n",
       "30  31   24  46000.00  17500.25  12000.00\n",
       "2    3   22  48100.00  18000.50  12050.10\n",
       "..  ..  ...       ...       ...       ...\n",
       "3    4   40  81000.25  35300.00  30250.50\n",
       "16  17   39  81250.75  36000.50  30500.00\n",
       "76  77   41  82500.00  36000.25  31500.00\n",
       "20  21   42  82500.75  37000.25  31500.50\n",
       "67  68   42  83500.50  37000.50  31500.75\n",
       "\n",
       "[100 rows x 5 columns]"
      ]
     },
     "execution_count": 24,
     "metadata": {},
     "output_type": "execute_result"
    }
   ],
   "source": [
    "sorted_by_income = salaries.sort_values(by='income')\n",
    "sorted_by_income"
   ]
  },
  {
   "cell_type": "markdown",
   "id": "2dd0ab16-d7bd-40fc-98a8-9615dfa8cf2e",
   "metadata": {},
   "source": [
    "### sort_index()\n",
    "Sort the DataFrame by the index."
   ]
  },
  {
   "cell_type": "code",
   "execution_count": 25,
   "id": "630bac35-9268-48c8-b2e5-edad280e09c8",
   "metadata": {},
   "outputs": [
    {
     "data": {
      "text/html": [
       "<div>\n",
       "<style scoped>\n",
       "    .dataframe tbody tr th:only-of-type {\n",
       "        vertical-align: middle;\n",
       "    }\n",
       "\n",
       "    .dataframe tbody tr th {\n",
       "        vertical-align: top;\n",
       "    }\n",
       "\n",
       "    .dataframe thead th {\n",
       "        text-align: right;\n",
       "    }\n",
       "</style>\n",
       "<table border=\"1\" class=\"dataframe\">\n",
       "  <thead>\n",
       "    <tr style=\"text-align: right;\">\n",
       "      <th></th>\n",
       "      <th>id</th>\n",
       "      <th>age</th>\n",
       "      <th>income</th>\n",
       "      <th>expenses</th>\n",
       "      <th>savings</th>\n",
       "    </tr>\n",
       "  </thead>\n",
       "  <tbody>\n",
       "    <tr>\n",
       "      <th>0</th>\n",
       "      <td>1</td>\n",
       "      <td>25</td>\n",
       "      <td>50500.75</td>\n",
       "      <td>20050.25</td>\n",
       "      <td>15200.50</td>\n",
       "    </tr>\n",
       "    <tr>\n",
       "      <th>1</th>\n",
       "      <td>2</td>\n",
       "      <td>30</td>\n",
       "      <td>60400.85</td>\n",
       "      <td>25200.75</td>\n",
       "      <td>20050.00</td>\n",
       "    </tr>\n",
       "    <tr>\n",
       "      <th>2</th>\n",
       "      <td>3</td>\n",
       "      <td>22</td>\n",
       "      <td>48100.00</td>\n",
       "      <td>18000.50</td>\n",
       "      <td>12050.10</td>\n",
       "    </tr>\n",
       "    <tr>\n",
       "      <th>3</th>\n",
       "      <td>4</td>\n",
       "      <td>40</td>\n",
       "      <td>81000.25</td>\n",
       "      <td>35300.00</td>\n",
       "      <td>30250.50</td>\n",
       "    </tr>\n",
       "    <tr>\n",
       "      <th>4</th>\n",
       "      <td>5</td>\n",
       "      <td>35</td>\n",
       "      <td>75200.75</td>\n",
       "      <td>30100.00</td>\n",
       "      <td>25200.00</td>\n",
       "    </tr>\n",
       "    <tr>\n",
       "      <th>...</th>\n",
       "      <td>...</td>\n",
       "      <td>...</td>\n",
       "      <td>...</td>\n",
       "      <td>...</td>\n",
       "      <td>...</td>\n",
       "    </tr>\n",
       "    <tr>\n",
       "      <th>95</th>\n",
       "      <td>96</td>\n",
       "      <td>34</td>\n",
       "      <td>72500.00</td>\n",
       "      <td>29000.50</td>\n",
       "      <td>24000.75</td>\n",
       "    </tr>\n",
       "    <tr>\n",
       "      <th>96</th>\n",
       "      <td>97</td>\n",
       "      <td>31</td>\n",
       "      <td>63500.50</td>\n",
       "      <td>26000.00</td>\n",
       "      <td>22000.25</td>\n",
       "    </tr>\n",
       "    <tr>\n",
       "      <th>97</th>\n",
       "      <td>98</td>\n",
       "      <td>35</td>\n",
       "      <td>74500.25</td>\n",
       "      <td>30000.00</td>\n",
       "      <td>25000.00</td>\n",
       "    </tr>\n",
       "    <tr>\n",
       "      <th>98</th>\n",
       "      <td>99</td>\n",
       "      <td>28</td>\n",
       "      <td>60000.00</td>\n",
       "      <td>25000.00</td>\n",
       "      <td>20000.25</td>\n",
       "    </tr>\n",
       "    <tr>\n",
       "      <th>99</th>\n",
       "      <td>100</td>\n",
       "      <td>25</td>\n",
       "      <td>50000.25</td>\n",
       "      <td>20000.50</td>\n",
       "      <td>15500.00</td>\n",
       "    </tr>\n",
       "  </tbody>\n",
       "</table>\n",
       "<p>100 rows × 5 columns</p>\n",
       "</div>"
      ],
      "text/plain": [
       "     id  age    income  expenses   savings\n",
       "0     1   25  50500.75  20050.25  15200.50\n",
       "1     2   30  60400.85  25200.75  20050.00\n",
       "2     3   22  48100.00  18000.50  12050.10\n",
       "3     4   40  81000.25  35300.00  30250.50\n",
       "4     5   35  75200.75  30100.00  25200.00\n",
       "..  ...  ...       ...       ...       ...\n",
       "95   96   34  72500.00  29000.50  24000.75\n",
       "96   97   31  63500.50  26000.00  22000.25\n",
       "97   98   35  74500.25  30000.00  25000.00\n",
       "98   99   28  60000.00  25000.00  20000.25\n",
       "99  100   25  50000.25  20000.50  15500.00\n",
       "\n",
       "[100 rows x 5 columns]"
      ]
     },
     "execution_count": 25,
     "metadata": {},
     "output_type": "execute_result"
    }
   ],
   "source": [
    "sorted_by_index = salaries.sort_index()\n",
    "sorted_by_index"
   ]
  },
  {
   "cell_type": "markdown",
   "id": "2c3ed564-0e4e-46ef-a3ca-6dbc024d544e",
   "metadata": {},
   "source": [
    "## 4. Rolling and Expanding Windows\n",
    "### rolling()\n",
    "Compute the rolling mean of the income column with a window size of 2."
   ]
  },
  {
   "cell_type": "code",
   "execution_count": 26,
   "id": "4ae11197-e2c7-422c-a5d0-483e0f8bfb10",
   "metadata": {},
   "outputs": [
    {
     "data": {
      "text/plain": [
       "0           NaN\n",
       "1     55450.800\n",
       "2     54250.425\n",
       "3     64550.125\n",
       "4     78100.500\n",
       "        ...    \n",
       "95    66250.250\n",
       "96    68000.250\n",
       "97    69000.375\n",
       "98    67250.125\n",
       "99    55000.125\n",
       "Name: income, Length: 100, dtype: float64"
      ]
     },
     "execution_count": 26,
     "metadata": {},
     "output_type": "execute_result"
    }
   ],
   "source": [
    "rolling_mean = salaries['income'].rolling(window=2).mean()\n",
    "rolling_mean"
   ]
  },
  {
   "cell_type": "markdown",
   "id": "4a2744f8-1b40-4907-a5bd-5615367386e0",
   "metadata": {},
   "source": [
    "### expanding()\n",
    "Compute the expanding mean of the expenses column."
   ]
  },
  {
   "cell_type": "code",
   "execution_count": 27,
   "id": "76b7675d-fb97-4dcd-b1a0-687b636c862b",
   "metadata": {},
   "outputs": [
    {
     "data": {
      "text/plain": [
       "0     20050.250000\n",
       "1     22625.500000\n",
       "2     21083.833333\n",
       "3     24637.875000\n",
       "4     25730.300000\n",
       "          ...     \n",
       "95    27657.106771\n",
       "96    27640.023196\n",
       "97    27664.104592\n",
       "98    27637.194444\n",
       "99    27560.827500\n",
       "Name: expenses, Length: 100, dtype: float64"
      ]
     },
     "execution_count": 27,
     "metadata": {},
     "output_type": "execute_result"
    }
   ],
   "source": [
    "expanding_mean = salaries['expenses'].expanding().mean()\n",
    "expanding_mean"
   ]
  },
  {
   "cell_type": "markdown",
   "id": "731875a8-80ab-40c5-9d4b-c6b67cbb13a2",
   "metadata": {},
   "source": [
    "### ewm()\n",
    "Compute the exponentially weighted mean of the savings column."
   ]
  },
  {
   "cell_type": "code",
   "execution_count": 28,
   "id": "27aa8726-7760-42a0-a6f5-695301e33e5a",
   "metadata": {},
   "outputs": [
    {
     "data": {
      "text/plain": [
       "0     15200.500000\n",
       "1     18837.625000\n",
       "2     14138.569231\n",
       "3     25014.122500\n",
       "4     25138.552893\n",
       "          ...     \n",
       "95    23806.507479\n",
       "96    22602.335826\n",
       "97    24200.778609\n",
       "98    21400.426203\n",
       "99    17466.808734\n",
       "Name: savings, Length: 100, dtype: float64"
      ]
     },
     "execution_count": 28,
     "metadata": {},
     "output_type": "execute_result"
    }
   ],
   "source": [
    "ewm_mean = salaries['savings'].ewm(span=2).mean()\n",
    "ewm_mean"
   ]
  },
  {
   "cell_type": "markdown",
   "id": "eb5c1b7f-13a6-4979-8571-67a71abb9697",
   "metadata": {},
   "source": [
    "## 5. Other Functions\n",
    "### describe()\n",
    "Generate descriptive statistics summary."
   ]
  },
  {
   "cell_type": "code",
   "execution_count": 29,
   "id": "287d9e37-eb78-4072-a8db-7fbd9cc0ff9d",
   "metadata": {},
   "outputs": [
    {
     "data": {
      "text/html": [
       "<div>\n",
       "<style scoped>\n",
       "    .dataframe tbody tr th:only-of-type {\n",
       "        vertical-align: middle;\n",
       "    }\n",
       "\n",
       "    .dataframe tbody tr th {\n",
       "        vertical-align: top;\n",
       "    }\n",
       "\n",
       "    .dataframe thead th {\n",
       "        text-align: right;\n",
       "    }\n",
       "</style>\n",
       "<table border=\"1\" class=\"dataframe\">\n",
       "  <thead>\n",
       "    <tr style=\"text-align: right;\">\n",
       "      <th></th>\n",
       "      <th>id</th>\n",
       "      <th>age</th>\n",
       "      <th>income</th>\n",
       "      <th>expenses</th>\n",
       "      <th>savings</th>\n",
       "    </tr>\n",
       "  </thead>\n",
       "  <tbody>\n",
       "    <tr>\n",
       "      <th>count</th>\n",
       "      <td>100.000000</td>\n",
       "      <td>100.000000</td>\n",
       "      <td>100.00000</td>\n",
       "      <td>100.000000</td>\n",
       "      <td>100.000000</td>\n",
       "    </tr>\n",
       "    <tr>\n",
       "      <th>mean</th>\n",
       "      <td>50.500000</td>\n",
       "      <td>32.290000</td>\n",
       "      <td>66354.86100</td>\n",
       "      <td>27560.827500</td>\n",
       "      <td>22816.711000</td>\n",
       "    </tr>\n",
       "    <tr>\n",
       "      <th>std</th>\n",
       "      <td>29.011492</td>\n",
       "      <td>5.031808</td>\n",
       "      <td>10630.11655</td>\n",
       "      <td>5082.489939</td>\n",
       "      <td>5061.465243</td>\n",
       "    </tr>\n",
       "    <tr>\n",
       "      <th>min</th>\n",
       "      <td>1.000000</td>\n",
       "      <td>22.000000</td>\n",
       "      <td>45000.00000</td>\n",
       "      <td>17000.250000</td>\n",
       "      <td>11000.000000</td>\n",
       "    </tr>\n",
       "    <tr>\n",
       "      <th>25%</th>\n",
       "      <td>25.750000</td>\n",
       "      <td>28.750000</td>\n",
       "      <td>59875.18750</td>\n",
       "      <td>24800.562500</td>\n",
       "      <td>20037.625000</td>\n",
       "    </tr>\n",
       "    <tr>\n",
       "      <th>50%</th>\n",
       "      <td>50.500000</td>\n",
       "      <td>32.000000</td>\n",
       "      <td>65000.37500</td>\n",
       "      <td>27000.000000</td>\n",
       "      <td>22500.500000</td>\n",
       "    </tr>\n",
       "    <tr>\n",
       "      <th>75%</th>\n",
       "      <td>75.250000</td>\n",
       "      <td>36.000000</td>\n",
       "      <td>77125.62500</td>\n",
       "      <td>32000.562500</td>\n",
       "      <td>27000.062500</td>\n",
       "    </tr>\n",
       "    <tr>\n",
       "      <th>max</th>\n",
       "      <td>100.000000</td>\n",
       "      <td>42.000000</td>\n",
       "      <td>83500.50000</td>\n",
       "      <td>37000.500000</td>\n",
       "      <td>31500.750000</td>\n",
       "    </tr>\n",
       "  </tbody>\n",
       "</table>\n",
       "</div>"
      ],
      "text/plain": [
       "               id         age       income      expenses       savings\n",
       "count  100.000000  100.000000    100.00000    100.000000    100.000000\n",
       "mean    50.500000   32.290000  66354.86100  27560.827500  22816.711000\n",
       "std     29.011492    5.031808  10630.11655   5082.489939   5061.465243\n",
       "min      1.000000   22.000000  45000.00000  17000.250000  11000.000000\n",
       "25%     25.750000   28.750000  59875.18750  24800.562500  20037.625000\n",
       "50%     50.500000   32.000000  65000.37500  27000.000000  22500.500000\n",
       "75%     75.250000   36.000000  77125.62500  32000.562500  27000.062500\n",
       "max    100.000000   42.000000  83500.50000  37000.500000  31500.750000"
      ]
     },
     "execution_count": 29,
     "metadata": {},
     "output_type": "execute_result"
    }
   ],
   "source": [
    "description = salaries.describe()\n",
    "description"
   ]
  },
  {
   "cell_type": "markdown",
   "id": "76e9196f-df92-4714-9158-c79a5073723f",
   "metadata": {},
   "source": [
    "### skew()\n",
    "Measure the skewness of each column."
   ]
  },
  {
   "cell_type": "code",
   "execution_count": 30,
   "id": "14e8ac87-6788-47da-9cc5-ad1cb50e0d6c",
   "metadata": {},
   "outputs": [
    {
     "data": {
      "text/plain": [
       "id          0.000000\n",
       "age         0.149981\n",
       "income     -0.176893\n",
       "expenses   -0.046982\n",
       "savings    -0.262731\n",
       "dtype: float64"
      ]
     },
     "execution_count": 30,
     "metadata": {},
     "output_type": "execute_result"
    }
   ],
   "source": [
    "skewness = salaries.skew()\n",
    "skewness"
   ]
  },
  {
   "cell_type": "markdown",
   "id": "c05945cd-3acc-471b-9bba-41bbc3a7c1bc",
   "metadata": {},
   "source": [
    "### kurt()\n",
    "Measure the kurtosis of each column."
   ]
  },
  {
   "cell_type": "code",
   "execution_count": 31,
   "id": "77b99d18-a282-4574-b068-bc77fcb8f25d",
   "metadata": {},
   "outputs": [
    {
     "data": {
      "text/plain": [
       "id         -1.200000\n",
       "age        -0.903137\n",
       "income     -0.965888\n",
       "expenses   -0.638256\n",
       "savings    -0.321100\n",
       "dtype: float64"
      ]
     },
     "execution_count": 31,
     "metadata": {},
     "output_type": "execute_result"
    }
   ],
   "source": [
    "kurtosis = salaries.kurt()\n",
    "kurtosis"
   ]
  },
  {
   "cell_type": "markdown",
   "id": "9bae4dea-b562-4097-9dc3-c872455a0c16",
   "metadata": {},
   "source": [
    "### pct_change()\n",
    "Compute the percentage change between consecutive rows for the income column."
   ]
  },
  {
   "cell_type": "code",
   "execution_count": 32,
   "id": "acd4d9d5-752f-4fe2-b8e4-0627f1ceac0c",
   "metadata": {},
   "outputs": [
    {
     "data": {
      "text/plain": [
       "0          NaN\n",
       "1     0.196039\n",
       "2    -0.203654\n",
       "3     0.683997\n",
       "4    -0.071599\n",
       "        ...   \n",
       "95    0.208323\n",
       "96   -0.124131\n",
       "97    0.173223\n",
       "98   -0.194634\n",
       "99   -0.166663\n",
       "Name: income, Length: 100, dtype: float64"
      ]
     },
     "execution_count": 32,
     "metadata": {},
     "output_type": "execute_result"
    }
   ],
   "source": [
    "pct_change_income = salaries['income'].pct_change()\n",
    "pct_change_income"
   ]
  }
 ],
 "metadata": {
  "kernelspec": {
   "display_name": "Python 3 (ipykernel)",
   "language": "python",
   "name": "python3"
  },
  "language_info": {
   "codemirror_mode": {
    "name": "ipython",
    "version": 3
   },
   "file_extension": ".py",
   "mimetype": "text/x-python",
   "name": "python",
   "nbconvert_exporter": "python",
   "pygments_lexer": "ipython3",
   "version": "3.8.19"
  }
 },
 "nbformat": 4,
 "nbformat_minor": 5
}
